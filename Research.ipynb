{
 "cells": [
  {
   "cell_type": "code",
   "execution_count": 1,
   "metadata": {},
   "outputs": [
    {
     "name": "stderr",
     "output_type": "stream",
     "text": [
      "C:\\Users\\Brad\\AppData\\Local\\Packages\\PythonSoftwareFoundation.Python.3.8_qbz5n2kfra8p0\\LocalCache\\local-packages\\Python38\\site-packages\\tqdm\\auto.py:22: TqdmWarning: IProgress not found. Please update jupyter and ipywidgets. See https://ipywidgets.readthedocs.io/en/stable/user_install.html\n",
      "  from .autonotebook import tqdm as notebook_tqdm\n"
     ]
    }
   ],
   "source": [
    "import matplotlib.pyplot as plt\n",
    "import seaborn as sns; sns.set()\n",
    "import numpy as np\n",
    "from sklearn.metrics import silhouette_samples, silhouette_score\n",
    "from sklearn.cluster import KMeans\n",
    "\n",
    "import tensorflow_hub as hub\n",
    "import tensorflow_text\n",
    "\n",
    "from transformers import BertTokenizer, BertModel\n",
    "import torch"
   ]
  },
  {
   "cell_type": "code",
   "execution_count": 2,
   "metadata": {},
   "outputs": [
    {
     "name": "stderr",
     "output_type": "stream",
     "text": [
      "Some weights of the model checkpoint at bert-base-uncased were not used when initializing BertModel: ['cls.predictions.transform.LayerNorm.bias', 'cls.predictions.bias', 'cls.predictions.transform.dense.bias', 'cls.predictions.transform.LayerNorm.weight', 'cls.seq_relationship.bias', 'cls.seq_relationship.weight', 'cls.predictions.decoder.weight', 'cls.predictions.transform.dense.weight']\n",
      "- This IS expected if you are initializing BertModel from the checkpoint of a model trained on another task or with another architecture (e.g. initializing a BertForSequenceClassification model from a BertForPreTraining model).\n",
      "- This IS NOT expected if you are initializing BertModel from the checkpoint of a model that you expect to be exactly identical (initializing a BertForSequenceClassification model from a BertForSequenceClassification model).\n"
     ]
    },
    {
     "name": "stdout",
     "output_type": "stream",
     "text": [
      "<class 'torch.Tensor'>\n"
     ]
    }
   ],
   "source": [
    "tokenizer = BertTokenizer.from_pretrained(\"bert-base-uncased\")\n",
    "model = BertModel.from_pretrained(\"bert-base-uncased\")\n",
    "\n",
    "inputs = tokenizer(\"Hello, my dog is cute\", return_tensors=\"pt\")\n",
    "outputs = model(**inputs)\n",
    "\n",
    "last_hidden_states = outputs.last_hidden_state\n",
    "print(type(last_hidden_states))"
   ]
  },
  {
   "cell_type": "code",
   "execution_count": 3,
   "metadata": {},
   "outputs": [],
   "source": [
    "last_hidden_states = last_hidden_states.detach().numpy()"
   ]
  },
  {
   "cell_type": "code",
   "execution_count": 4,
   "metadata": {},
   "outputs": [
    {
     "name": "stdout",
     "output_type": "stream",
     "text": [
      "(768,)\n"
     ]
    }
   ],
   "source": [
    "print(last_hidden_states[0][0].shape)"
   ]
  },
  {
   "cell_type": "code",
   "execution_count": 2,
   "metadata": {},
   "outputs": [
    {
     "name": "stderr",
     "output_type": "stream",
     "text": [
      "Reusing dataset xnli (C:\\Users\\Brad\\.cache\\huggingface\\datasets\\xnli\\all_languages\\1.1.0\\818164464f9c9fd15776ca8a00423b074344c3e929d00a2c1a84aa5a50c928bd)\n",
      "100%|██████████| 3/3 [00:00<00:00,  6.80it/s]\n"
     ]
    }
   ],
   "source": [
    "from datasets import load_dataset\n",
    "\n",
    "dataset = load_dataset(\"xnli\", \"all_languages\")"
   ]
  },
  {
   "cell_type": "code",
   "execution_count": 3,
   "metadata": {},
   "outputs": [],
   "source": [
    "xnli = dataset[\"train\"][\"premise\"][:100]"
   ]
  },
  {
   "cell_type": "code",
   "execution_count": 4,
   "metadata": {},
   "outputs": [
    {
     "data": {
      "text/plain": [
       "{'ar': '- و قد ال كريم المفاهيمية اثنان اساسيين - المنتج والجغرافيا .',\n",
       " 'bg': 'концептуално крем краде има две основни измерения - продукт и география .',\n",
       " 'de': 'Konzeptionell cream abschöpfen hat zwei grundlegende Dimensionen - Produkt und Geographie .',\n",
       " 'el': 'Η εννοιολογικά κρέμα κρέμα έχει δύο βασικές διαστάσεις - προϊόν και γεωγραφία .',\n",
       " 'en': 'Conceptually cream skimming has two basic dimensions - product and geography .',\n",
       " 'es': 'Los robando de crema conceptualmente tienen dos dimensiones básicas : producto y geografía .',\n",
       " 'fr': \"L' écrémage conceptuel de la crème a deux dimensions fondamentales : le produit et la géographie .\",\n",
       " 'hi': 'Conceptually क ् रीम एंजलिस में दो मूल आयाम हैं - उत ् पाद और भूगोल ।',\n",
       " 'ru': 'Концептуально крем крем имеет два основных измерения - продукт и география .',\n",
       " 'sw': 'Sakata cream ya conceptually ina vipimo viwili vya msingi - bidhaa na geography .',\n",
       " 'th': 'ท่า ครีม ยักยอก มี สอง มิติ พื้นฐาน   -   สินค้า และ ภูมิศาสตร์',\n",
       " 'tr': 'Kavramsal krem kaymağını iki temel boyutu vardır - ürün ve coğrafya .',\n",
       " 'ur': 'ارضیات کی ناپیدی اور جغرافیہ نے دو بنیادی فسل تصاویر اور جغرافیہ کا اشتراک کیا ہے ۔',\n",
       " 'vi': 'Conceptually kem skimming có hai kích thước cơ bản - sản phẩm và địa lý .',\n",
       " 'zh': '从 概念 上 看 , 奶油 收入 有 两 个 基本 方面 产品 和 地理 .'}"
      ]
     },
     "execution_count": 4,
     "metadata": {},
     "output_type": "execute_result"
    }
   ],
   "source": [
    "xnli[0]"
   ]
  },
  {
   "cell_type": "code",
   "execution_count": 5,
   "metadata": {},
   "outputs": [],
   "source": [
    "# new_models in sentence transformers org\n",
    "miniLM = \"sentence-transformers/paraphrase-multilingual-MiniLM-L12-v2\"\n",
    "distil = \"sentence-transformers/distiluse-base-multilingual-cased-v2\"\n",
    "xlm = \"sentence-transformers/paraphrase-xlm-r-multilingual-v1\"\n"
   ]
  },
  {
   "cell_type": "code",
   "execution_count": 6,
   "metadata": {},
   "outputs": [],
   "source": [
    "from sentence_transformers import SentenceTransformer\n",
    "miniLM_model = SentenceTransformer(miniLM)\n",
    "distil_model = SentenceTransformer(distil)\n",
    "xlm_model = SentenceTransformer(xlm)"
   ]
  },
  {
   "cell_type": "code",
   "execution_count": 23,
   "metadata": {},
   "outputs": [
    {
     "name": "stdout",
     "output_type": "stream",
     "text": [
      "ar - و قد ال كريم المفاهيمية اثنان اساسيين - المنتج والجغرافيا .\n",
      "bg концептуално крем краде има две основни измерения - продукт и география .\n",
      "de Konzeptionell cream abschöpfen hat zwei grundlegende Dimensionen - Produkt und Geographie .\n",
      "el Η εννοιολογικά κρέμα κρέμα έχει δύο βασικές διαστάσεις - προϊόν και γεωγραφία .\n",
      "en Conceptually cream skimming has two basic dimensions - product and geography .\n",
      "es Los robando de crema conceptualmente tienen dos dimensiones básicas : producto y geografía .\n",
      "fr L' écrémage conceptuel de la crème a deux dimensions fondamentales : le produit et la géographie .\n",
      "hi Conceptually क ् रीम एंजलिस में दो मूल आयाम हैं - उत ् पाद और भूगोल ।\n",
      "ru Концептуально крем крем имеет два основных измерения - продукт и география .\n",
      "sw Sakata cream ya conceptually ina vipimo viwili vya msingi - bidhaa na geography .\n",
      "th ท่า ครีม ยักยอก มี สอง มิติ พื้นฐาน   -   สินค้า และ ภูมิศาสตร์\n",
      "tr Kavramsal krem kaymağını iki temel boyutu vardır - ürün ve coğrafya .\n",
      "ur ارضیات کی ناپیدی اور جغرافیہ نے دو بنیادی فسل تصاویر اور جغرافیہ کا اشتراک کیا ہے ۔\n",
      "vi Conceptually kem skimming có hai kích thước cơ bản - sản phẩm và địa lý .\n",
      "zh 从 概念 上 看 , 奶油 收入 有 两 个 基本 方面 产品 和 地理 .\n"
     ]
    }
   ],
   "source": [
    "for i in xnli[0]:\n",
    "    print(i + \" \" + xnli[0][i])"
   ]
  },
  {
   "cell_type": "code",
   "execution_count": 105,
   "metadata": {},
   "outputs": [],
   "source": [
    "# loop through the data and get word embeddings\n",
    "embed_list = []\n",
    "\n",
    "for idx, i in enumerate(xnli[87]):\n",
    "    new_entry = {}\n",
    "    for i in xnli[idx]:\n",
    "        lang_id = i\n",
    "        lang_value = xnli[idx][i]\n",
    "\n",
    "        embeddings = xlm_model.encode(lang_value)\n",
    "\n",
    "        new_entry[lang_id] = embeddings\n",
    "    embed_list.append(new_entry)"
   ]
  },
  {
   "cell_type": "code",
   "execution_count": 58,
   "metadata": {},
   "outputs": [],
   "source": [
    "def listAvg(input_list):\n",
    "    sum = np.zeros((384,))\n",
    "    for i in input_list:\n",
    "        sum = sum + i\n",
    "    avg = sum / len(input_list)\n",
    "    return avg"
   ]
  },
  {
   "cell_type": "code",
   "execution_count": 93,
   "metadata": {},
   "outputs": [],
   "source": [
    "middleVecs = [[0, 0], [0, 2], [1, 1], [2, 0], [2, 2], [50, 50], [55, 55]]"
   ]
  },
  {
   "cell_type": "code",
   "execution_count": 106,
   "metadata": {},
   "outputs": [],
   "source": [
    "# within cluster sum of squares\n",
    "\n",
    "diff_sums = []\n",
    "def wcss():\n",
    "    #embed_list[0].values()\n",
    "    vectors = list(embed_list[0].values())\n",
    "\n",
    "    for i in range(1, len(vectors) + 1):\n",
    "        kmeans = KMeans(n_clusters=i)\n",
    "        kmeans.fit(vectors)\n",
    "        y_kmeans = kmeans.predict(vectors)\n",
    "\n",
    "        wcss_iter = kmeans.inertia_\n",
    "        diff_sums.append(wcss_iter)\n",
    "\n",
    "        # means = []\n",
    "        # for m in range(0, i):\n",
    "        #     sublist = []\n",
    "        #     for idx, y in enumerate(y_kmeans):\n",
    "        #         if y == m:\n",
    "        #             sublist.append(vectors[idx])\n",
    "        #     means.append(sublist)\n",
    "        \n",
    "        # avgs = []\n",
    "        # for a in means:\n",
    "        #     # average is wrong\n",
    "        #     sub_avg = listAvg(a)\n",
    "        #     avgs.append(sub_avg)\n",
    "        \n",
    "        # sum = np.zeros((384,))\n",
    "        # for idx, v in enumerate(vectors):\n",
    "        #     avg_group = y_kmeans[idx]\n",
    "        #     avg = avgs[avg_group]\n",
    "        #     diff = (v - avg) ** 2\n",
    "        #     sum = sum + diff\n",
    "\n",
    "        # diff_sums.append(np.sum(sum))\n",
    "\n",
    "wcss()"
   ]
  },
  {
   "cell_type": "code",
   "execution_count": null,
   "metadata": {},
   "outputs": [],
   "source": [
    "np.average([])"
   ]
  },
  {
   "cell_type": "code",
   "execution_count": 30,
   "metadata": {},
   "outputs": [
    {
     "name": "stdout",
     "output_type": "stream",
     "text": [
      "38.573602817690265\n"
     ]
    }
   ],
   "source": [
    "difflist = (embed_list[0][\"de\"] - embed_list[0][\"tr\"]) ** 2\n",
    "sum = 0\n",
    "for d in difflist:\n",
    "    sum = sum + d\n",
    "print(sum * 15)"
   ]
  },
  {
   "cell_type": "code",
   "execution_count": 107,
   "metadata": {},
   "outputs": [
    {
     "data": {
      "text/plain": [
       "[119.75346920217018,\n",
       " 89.01217538650299,\n",
       " 70.00235705470259,\n",
       " 54.21276265636057,\n",
       " 43.36201875394199,\n",
       " 36.1957950002059,\n",
       " 27.9971034929913,\n",
       " 21.333813125124536,\n",
       " 15.64020844681886,\n",
       " 11.693912994176086,\n",
       " 7.9888223097628694,\n",
       " 5.261354654460652,\n",
       " 3.414215837483269,\n",
       " 1.6097627760161661,\n",
       " 0.0]"
      ]
     },
     "execution_count": 107,
     "metadata": {},
     "output_type": "execute_result"
    }
   ],
   "source": [
    "diff_sums"
   ]
  },
  {
   "cell_type": "code",
   "execution_count": 112,
   "metadata": {},
   "outputs": [
    {
     "data": {
      "image/png": "[encoded data removed]",
      "text/plain": [
       "<Figure size 432x288 with 1 Axes>"
      ]
     },
     "metadata": {},
     "output_type": "display_data"
    }
   ],
   "source": [
    "import matplotlib.pyplot as plt\n",
    "\n",
    "x_values = [i for i in range(1, 16)]\n",
    "y_values = diff_sums\n",
    "# plt.xscale(\"log\")\n",
    "# plt.yscale(\"log\")\n",
    "plt.plot(x_values, y_values)  #draw the plot\n",
    "plt.show()   #show the plot"
   ]
  },
  {
   "cell_type": "code",
   "execution_count": 24,
   "metadata": {},
   "outputs": [],
   "source": [
    "# cluster the sentence blocks using k-means and wss\n",
    "from sklearn.cluster import KMeans\n",
    "\n",
    "kmeans = KMeans(n_clusters=5)\n",
    "vectors = list(embed_list[0].values())\n",
    "kmeans.fit(vectors)\n",
    "y_kmeans = kmeans.predict(vectors)"
   ]
  },
  {
   "cell_type": "code",
   "execution_count": 49,
   "metadata": {},
   "outputs": [
    {
     "data": {
      "text/plain": [
       "(384,)"
      ]
     },
     "execution_count": 49,
     "metadata": {},
     "output_type": "execute_result"
    }
   ],
   "source": [
    "np.shape(vectors[0])"
   ]
  },
  {
   "cell_type": "code",
   "execution_count": 32,
   "metadata": {},
   "outputs": [
    {
     "data": {
      "text/plain": [
       "array([1, 3, 0, 0, 2, 3, 0, 1, 0, 4, 1, 0, 1, 2, 0])"
      ]
     },
     "execution_count": 32,
     "metadata": {},
     "output_type": "execute_result"
    }
   ],
   "source": [
    "y_kmeans"
   ]
  },
  {
   "cell_type": "code",
   "execution_count": 44,
   "metadata": {},
   "outputs": [
    {
     "data": {
      "text/plain": [
       "[[0, 0, 0], [1, 1, 1, 1], [2, 2, 2, 2, 2, 2, 2, 2]]"
      ]
     },
     "execution_count": 44,
     "metadata": {},
     "output_type": "execute_result"
    }
   ],
   "source": [
    "means = []\n",
    "for m in range(0, 3):\n",
    "    sublist = []\n",
    "    for idx, y in enumerate(y_kmeans):\n",
    "        if y == m:\n",
    "            #vectors[idx]\n",
    "            sublist.append(y)\n",
    "    means.append(sublist)\n",
    "means"
   ]
  },
  {
   "cell_type": "code",
   "execution_count": 19,
   "metadata": {},
   "outputs": [
    {
     "name": "stdout",
     "output_type": "stream",
     "text": [
      "(512,)\n"
     ]
    }
   ],
   "source": [
    "embeddings = distil_model.encode(\"I am a sentence\")\n",
    "print(embeddings.shape)"
   ]
  },
  {
   "cell_type": "code",
   "execution_count": 9,
   "metadata": {},
   "outputs": [
    {
     "name": "stderr",
     "output_type": "stream",
     "text": [
      "Some weights of the model checkpoint at bert-base-multilingual-cased were not used when initializing BertModel: ['cls.predictions.transform.LayerNorm.bias', 'cls.predictions.bias', 'cls.predictions.transform.dense.bias', 'cls.predictions.transform.LayerNorm.weight', 'cls.seq_relationship.bias', 'cls.seq_relationship.weight', 'cls.predictions.decoder.weight', 'cls.predictions.transform.dense.weight']\n",
      "- This IS expected if you are initializing BertModel from the checkpoint of a model trained on another task or with another architecture (e.g. initializing a BertForSequenceClassification model from a BertForPreTraining model).\n",
      "- This IS NOT expected if you are initializing BertModel from the checkpoint of a model that you expect to be exactly identical (initializing a BertForSequenceClassification model from a BertForSequenceClassification model).\n"
     ]
    }
   ],
   "source": [
    "# OLD MODELS\n",
    "\n",
    "# tokenizer = BertTokenizer.from_pretrained(\"bert-base-multilingual-cased\")\n",
    "# m_bert = BertModel.from_pretrained(\"bert-base-multilingual-cased\")\n",
    "\n",
    "# from transformers import XLMRobertaTokenizer\n",
    "# from transformers import XLMRobertaModel\n",
    "\n",
    "# x_tokenizer = XLMRobertaTokenizer.from_pretrained(\"xlm-roberta-base\")\n",
    "# xlm_r = XLMRobertaModel.from_pretrained(\"xlm-roberta-base\")\n",
    "# # distilbert-base-multilingual-cased\n",
    "\n",
    "# d_tokenizer = BertTokenizer.from_pretrained(\"distilbert-base-multilingual-cased\")\n",
    "# distil = BertModel.from_pretrained(\"distilbert-base-multilingual-cased\")"
   ]
  }
 ],
 "metadata": {
  "kernelspec": {
   "display_name": "Python 3.8.10 64-bit (windows store)",
   "language": "python",
   "name": "python3"
  },
  "language_info": {
   "codemirror_mode": {
    "name": "ipython",
    "version": 3
   },
   "file_extension": ".py",
   "mimetype": "text/x-python",
   "name": "python",
   "nbconvert_exporter": "python",
   "pygments_lexer": "ipython3",
   "version": "3.8.10"
  },
  "orig_nbformat": 4,
  "vscode": {
   "interpreter": {
    "hash": "faa2fac6ff85f643fad080676a73334f6d2a035cd520b8ffec70f2014eef7619"
   }
  }
 },
 "nbformat": 4,
 "nbformat_minor": 2
}
