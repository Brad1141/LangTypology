{
 "cells": [
  {
   "cell_type": "code",
   "execution_count": 2,
   "metadata": {},
   "outputs": [
    {
     "name": "stderr",
     "output_type": "stream",
     "text": [
      "<frozen importlib._bootstrap>:219: RuntimeWarning: numpy.ufunc size changed, may indicate binary incompatibility. Expected 216 from C header, got 232 from PyObject\n"
     ]
    }
   ],
   "source": [
    "import matplotlib.pyplot as plt\n",
    "import seaborn as sns; sns.set()\n",
    "import numpy as np\n",
    "from sklearn.metrics import silhouette_samples, silhouette_score\n",
    "from sklearn.cluster import KMeans"
   ]
  },
  {
   "cell_type": "code",
   "execution_count": 3,
   "metadata": {},
   "outputs": [
    {
     "data": {
      "text/plain": [
       "<matplotlib.collections.PathCollection at 0x18857345fd0>"
      ]
     },
     "execution_count": 3,
     "metadata": {},
     "output_type": "execute_result"
    },
    {
     "data": {
      "image/png": "[encoded data removed]",
      "text/plain": [
       "<Figure size 432x288 with 1 Axes>"
      ]
     },
     "metadata": {},
     "output_type": "display_data"
    }
   ],
   "source": [
    "from sklearn.datasets import make_blobs\n",
    "\n",
    "X, y_true = make_blobs(n_samples=300, centers=4, cluster_std=0.6, random_state=0)\n",
    "plt.scatter(X[:, 0], X[:, 1], s=50)"
   ]
  },
  {
   "cell_type": "code",
   "execution_count": 13,
   "metadata": {},
   "outputs": [
    {
     "name": "stderr",
     "output_type": "stream",
     "text": [
      "<frozen importlib._bootstrap>:219: RuntimeWarning: numpy.ndarray size changed, may indicate binary incompatibility. Expected 80 from C header, got 96 from PyObject\n"
     ]
    }
   ],
   "source": [
    "import tensorflow_hub as hub\n",
    "import numpy as np\n",
    "import tensorflow_text\n",
    "\n",
    "# Some texts of different lengths.\n",
    "english_sentences = [\"I enjoy taking long walks along the beach with my dog.\"]\n",
    "italian_sentences = [\"Mi piace fare lunghe passeggiate lungo la spiaggia con il mio cane.\"]\n",
    "japanese_sentences = [\"私は犬と一緒にビーチを散歩するのが好きです\"]\n",
    "\n",
    "embed = hub.load(\"https://tfhub.dev/google/universal-sentence-encoder-multilingual-large/3\")\n",
    "\n",
    "# Compute embeddings.\n",
    "en_result = embed(english_sentences)\n",
    "it_result = embed(italian_sentences)\n",
    "ja_result = embed(japanese_sentences)"
   ]
  },
  {
   "cell_type": "code",
   "execution_count": 63,
   "metadata": {},
   "outputs": [],
   "source": [
    "#bible translations\n",
    "en = [\"The measures provided for in this Regulation are in accordance with the opinion of the Management Committee for Milk and Milk Products\"]\n",
    "it = [\"Le misure previste dal presente regolamento sono conformi al parere del comitato di gestione per il latte e i prodotti lattiero-caseari\"]\n",
    "de = [\"Die in dieser Verordnung vorgesehenen Maßnahmen entsprechen der Stellungnahme des Verwaltungsausschusses für Milch und Milcherzeugnisse\"]\n",
    "nl = [\"De in deze verordening vervatte maatregelen zijn in overeenstemming met het advies van het Comité van beheer voor melk en zuivelproducten\"]\n",
    "pl = [\"Środki przewidziane w niniejszym rozporządzeniu są zgodne z opinią Komitetu Zarządzającego ds. Mleka i Przetworów Mlecznych\"]\n",
    "fr = [\"Les mesures prévues au présent règlement sont conformes à l'avis du comité de gestion du lait et des produits laitiers\"]\n",
    "\n",
    "en_result = embed(en)\n",
    "it_result = embed(it)\n",
    "de_result = embed(de)\n",
    "nl_result = embed(nl)\n",
    "pl_result = embed(pl)\n",
    "fr_result = embed(fr)\n",
    "\n"
   ]
  },
  {
   "cell_type": "code",
   "execution_count": 64,
   "metadata": {},
   "outputs": [],
   "source": [
    "enTest = np.array(en_result).reshape(512,)\n",
    "itTest = np.array(it_result).reshape(512,)\n",
    "deTest = np.array(de_result).reshape(512,)\n",
    "nlTest = np.array(nl_result).reshape(512,)\n",
    "plTest = np.array(pl_result).reshape(512,)\n",
    "frTest = np.array(fr_result).reshape(512,)\n",
    "\n",
    "\n",
    "# enTest = np.array([0, 1, 2, 3])\n",
    "# itTest = [0, 1, 5, 3]\n",
    "# jaTest = [0, 10, 2, 3]"
   ]
  },
  {
   "cell_type": "code",
   "execution_count": 74,
   "metadata": {},
   "outputs": [],
   "source": [
    "langPoints = [[0, 1, 2, 3], [3, 4, 5, 3], [1, 4, 6, 3], [3, 0, 2, 3]]\n",
    "langPoints2 = [enTest, itTest, deTest, nlTest, plTest, frTest]"
   ]
  },
  {
   "cell_type": "code",
   "execution_count": 75,
   "metadata": {},
   "outputs": [],
   "source": [
    "kmeans = KMeans(n_clusters=3)\n",
    "kmeans.fit(langPoints2)\n",
    "y_kmeans = kmeans.predict(langPoints2)"
   ]
  },
  {
   "cell_type": "code",
   "execution_count": 76,
   "metadata": {},
   "outputs": [
    {
     "data": {
      "text/plain": [
       "array([0, 0, 0, 2, 1, 0])"
      ]
     },
     "execution_count": 76,
     "metadata": {},
     "output_type": "execute_result"
    }
   ],
   "source": [
    "y_kmeans"
   ]
  },
  {
   "cell_type": "code",
   "execution_count": null,
   "metadata": {},
   "outputs": [],
   "source": []
  }
 ],
 "metadata": {
  "kernelspec": {
   "display_name": "Python 3.8.10 64-bit (windows store)",
   "language": "python",
   "name": "python3"
  },
  "language_info": {
   "codemirror_mode": {
    "name": "ipython",
    "version": 3
   },
   "file_extension": ".py",
   "mimetype": "text/x-python",
   "name": "python",
   "nbconvert_exporter": "python",
   "pygments_lexer": "ipython3",
   "version": "3.8.10"
  },
  "orig_nbformat": 4,
  "vscode": {
   "interpreter": {
    "hash": "faa2fac6ff85f643fad080676a73334f6d2a035cd520b8ffec70f2014eef7619"
   }
  }
 },
 "nbformat": 4,
 "nbformat_minor": 2
}
